{
 "cells": [
  {
   "cell_type": "code",
   "execution_count": 4,
   "metadata": {},
   "outputs": [
    {
     "ename": "SyntaxError",
     "evalue": "'return' outside function (<ipython-input-4-f32e7f1d1eb7>, line 17)",
     "output_type": "error",
     "traceback": [
      "\u001b[1;36m  File \u001b[1;32m\"<ipython-input-4-f32e7f1d1eb7>\"\u001b[1;36m, line \u001b[1;32m17\u001b[0m\n\u001b[1;33m    return H[n]\u001b[0m\n\u001b[1;37m    ^\u001b[0m\n\u001b[1;31mSyntaxError\u001b[0m\u001b[1;31m:\u001b[0m 'return' outside function\n"
     ]
    }
   ],
   "source": [
    "class Graph:\n",
    "    \n",
    "    def _init_(self, adjacency_list):\n",
    "        self.adjacency_list = adjecency_list\n",
    "        \n",
    "    def get_neighbour(self, v):\n",
    "        return self.adjency_list[v]\n",
    "    \n",
    "    def h(self, n):\n",
    "        H = {\n",
    "            'A':1,\n",
    "            'B':1,\n",
    "            'C':1,\n",
    "            'D':1\n",
    "        }\n",
    "        \n",
    "return H[n]"
   ]
  },
  {
   "cell_type": "code",
   "execution_count": null,
   "metadata": {},
   "outputs": [],
   "source": []
  }
 ],
 "metadata": {
  "kernelspec": {
   "display_name": "Python 3",
   "language": "python",
   "name": "python3"
  },
  "language_info": {
   "codemirror_mode": {
    "name": "ipython",
    "version": 3
   },
   "file_extension": ".py",
   "mimetype": "text/x-python",
   "name": "python",
   "nbconvert_exporter": "python",
   "pygments_lexer": "ipython3",
   "version": "3.8.3"
  }
 },
 "nbformat": 4,
 "nbformat_minor": 4
}
