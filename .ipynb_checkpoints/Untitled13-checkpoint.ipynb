{
 "cells": [
  {
   "cell_type": "code",
   "execution_count": 1,
   "metadata": {},
   "outputs": [],
   "source": [
    "from random import choice\n",
    "from numpy import array, dot, random\n",
    "from matplotlib import pyplot as plt"
   ]
  },
  {
   "cell_type": "code",
   "execution_count": 3,
   "metadata": {},
   "outputs": [],
   "source": [
    "#mathematical functions\n",
    "unit_step = lambda y: 0 if y < 0 else 1\n",
    "    \n",
    "#the first two entries in the array are input values\n",
    "#the third entry in the array is the bias / thershold value\n",
    "data_trainning =[\n",
    "    (array([0,0,1]), 0), #trainning sata is an OR function\n",
    "    (array([0,1,1]), 1),\n",
    "    (array([1,0,1]), 1),\n",
    "    (array([1,1,1]), 1),\n",
    "]\n",
    "\n",
    "w = random.rand(3)\n",
    "errors = []\n",
    "teta = 0.2\n",
    "n = 100"
   ]
  },
  {
   "cell_type": "code",
   "execution_count": 4,
   "metadata": {},
   "outputs": [],
   "source": [
    "#trainnning process\n",
    "for i in range(n):\n",
    "    y, expected = choice(data_trainning)\n",
    "    result = dot(w, y)\n",
    "    error = expected - unit_step(result)\n",
    "    errors.append(error)\n",
    "    w += teta * error * y  #laerning rule"
   ]
  },
  {
   "cell_type": "code",
   "execution_count": 6,
   "metadata": {},
   "outputs": [
    {
     "name": "stdout",
     "output_type": "stream",
     "text": [
      "[0 0]: -0.14176138006387828 -> 0\n",
      "[0 1]: 0.06306633768118314 -> 1\n",
      "[1 0]: 0.6119057767323631 -> 1\n",
      "[1 1]: 0.8167334944774246 -> 1\n"
     ]
    },
    {
     "data": {
      "image/png": "[encoded data removed]",
      "text/plain": [
       "<Figure size 432x288 with 1 Axes>"
      ]
     },
     "metadata": {
      "needs_background": "light"
     },
     "output_type": "display_data"
    }
   ],
   "source": [
    "#Learning result (logical OR function)\n",
    "for y, _ in data_trainning:\n",
    "    result = dot(y, w)\n",
    "    print(\"{}: {} -> {}\".format(y[:2], result, unit_step(result)))\n",
    "    \n",
    "#visualization of the training process (plot errors)\n",
    "plt.ylim([-1,1])\n",
    "plt.plot(errors)\n",
    "plt.show()"
   ]
  },
  {
   "cell_type": "code",
   "execution_count": null,
   "metadata": {},
   "outputs": [],
   "source": []
  }
 ],
 "metadata": {
  "kernelspec": {
   "display_name": "Python 3",
   "language": "python",
   "name": "python3"
  },
  "language_info": {
   "codemirror_mode": {
    "name": "ipython",
    "version": 3
   },
   "file_extension": ".py",
   "mimetype": "text/x-python",
   "name": "python",
   "nbconvert_exporter": "python",
   "pygments_lexer": "ipython3",
   "version": "3.8.3"
  }
 },
 "nbformat": 4,
 "nbformat_minor": 4
}
